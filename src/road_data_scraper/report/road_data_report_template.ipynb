{
 "cells": [
  {
   "cell_type": "code",
   "execution_count": null,
   "source": [
    "# This cell is tagged parameters\n",
    "title = \"Road Data Dumps\"\n",
    "data = None"
   ],
   "outputs": [],
   "metadata": {
    "execution": {
     "iopub.execute_input": "2021-09-11T13:43:00.343066Z",
     "iopub.status.busy": "2021-09-11T13:43:00.342876Z",
     "iopub.status.idle": "2021-09-11T13:43:00.360041Z",
     "shell.execute_reply": "2021-09-11T13:43:00.358184Z",
     "shell.execute_reply.started": "2021-09-11T13:43:00.342979Z"
    },
    "tags": [
     "parameters"
    ]
   }
  },
  {
   "cell_type": "code",
   "execution_count": null,
   "source": [
    "import warnings\n",
    "warnings.filterwarnings(\"ignore\")\n",
    "\n",
    "from IPython.display import Markdown as md\n",
    "from IPython.display import HTML\n",
    "\n",
    "import pandas as pd\n",
    "import panel as pn\n",
    "pn.extension()\n"
   ],
   "outputs": [],
   "metadata": {
    "execution": {
     "iopub.status.busy": "2021-09-11T13:43:00.361213Z",
     "iopub.status.idle": "2021-09-11T13:43:00.361860Z",
     "shell.execute_reply": "2021-09-11T13:43:00.361559Z",
     "shell.execute_reply.started": "2021-09-11T13:43:00.361535Z"
    }
   }
  },
  {
   "cell_type": "code",
   "execution_count": null,
   "source": [
    "df = pd.read_json(data)\n",
    "df = df.astype({\"easting\": \"object\", \"northing\": \"object\"})"
   ],
   "outputs": [],
   "metadata": {}
  },
  {
   "cell_type": "code",
   "execution_count": null,
   "source": [
    "md(f\"# {title}\")"
   ],
   "outputs": [],
   "metadata": {}
  },
  {
   "cell_type": "code",
   "execution_count": null,
   "source": [
    "md(f\"## Lookup Table\")"
   ],
   "outputs": [],
   "metadata": {}
  },
  {
   "cell_type": "code",
   "execution_count": null,
   "source": [
    "df_widget = pn.widgets.DataFrame(\n",
    "    df, name=\"DataFrame\", height=400, width=800\n",
    ")\n",
    "\n",
    "df_widget"
   ],
   "outputs": [],
   "metadata": {}
  },
  {
   "cell_type": "code",
   "execution_count": null,
   "source": [
    "md(f\"## MIDAS\")"
   ],
   "outputs": [],
   "metadata": {}
  },
  {
   "cell_type": "code",
   "execution_count": null,
   "source": [
    "midas_df = df.query(\"name.str.contains('MIDAS', case = True)\")\n",
    "midas_df[\"status\"].value_counts(normalize = True)"
   ],
   "outputs": [],
   "metadata": {}
  },
  {
   "cell_type": "code",
   "execution_count": null,
   "source": [
    "midas_df[\"status\"].value_counts(normalize = False)"
   ],
   "outputs": [],
   "metadata": {}
  },
  {
   "cell_type": "code",
   "execution_count": null,
   "source": [
    "md(f\"## TMU\")"
   ],
   "outputs": [],
   "metadata": {}
  },
  {
   "cell_type": "code",
   "execution_count": null,
   "source": [
    "tmu_df = df.query(\"name.str.contains('TMU', case = True)\")\n",
    "tmu_df[\"status\"].value_counts(normalize = True)"
   ],
   "outputs": [],
   "metadata": {}
  },
  {
   "cell_type": "code",
   "execution_count": null,
   "source": [
    "tmu_df[\"status\"].value_counts(normalize = False)"
   ],
   "outputs": [],
   "metadata": {}
  },
  {
   "cell_type": "code",
   "execution_count": null,
   "source": [
    "md(f\"## TAME\")"
   ],
   "outputs": [],
   "metadata": {}
  },
  {
   "cell_type": "code",
   "execution_count": null,
   "source": [
    "tame_df = df.query(\"name.str.contains('TAME', case = True)\")\n",
    "tame_df[\"status\"].value_counts(normalize = True)"
   ],
   "outputs": [],
   "metadata": {}
  },
  {
   "cell_type": "code",
   "execution_count": null,
   "source": [
    "tame_df[\"status\"].value_counts(normalize = False)"
   ],
   "outputs": [],
   "metadata": {}
  },
  {
   "cell_type": "code",
   "execution_count": null,
   "source": [
    "md(f\"## Other\")"
   ],
   "outputs": [],
   "metadata": {}
  },
  {
   "cell_type": "code",
   "execution_count": null,
   "source": [
    "other_df = df.query(\"name.str.contains('MIDAS|TAME|TMU', case = True)==False\")\n",
    "other_df[\"status\"].value_counts(normalize = True)"
   ],
   "outputs": [],
   "metadata": {}
  },
  {
   "cell_type": "code",
   "execution_count": null,
   "source": [
    "other_df[\"status\"].value_counts(normalize = False)"
   ],
   "outputs": [],
   "metadata": {}
  }
 ],
 "metadata": {
  "kernelspec": {
   "name": "python3",
   "display_name": "Python 3.9.6 64-bit ('minimal_ds': conda)"
  },
  "language_info": {
   "codemirror_mode": {
    "name": "ipython",
    "version": 3
   },
   "file_extension": ".py",
   "mimetype": "text/x-python",
   "name": "python",
   "nbconvert_exporter": "python",
   "pygments_lexer": "ipython3",
   "version": "3.9.6"
  },
  "interpreter": {
   "hash": "5b48144a34f63487bea7ee9f9ad5c88c0d13e02827afe19e0b18065d84ee6e9a"
  }
 },
 "nbformat": 4,
 "nbformat_minor": 5
}
