{
 "cells": [
  {
   "cell_type": "code",
   "execution_count": 1,
   "source": [
    "# This cell is tagged parameters\n",
    "title = \"Road Data Dumps\"\n",
    "data = None"
   ],
   "outputs": [
    {
     "output_type": "error",
     "ename": "SyntaxError",
     "evalue": "invalid syntax (2443234453.py, line 2)",
     "traceback": [
      "\u001b[0;36m  File \u001b[0;32m\"/tmp/ipykernel_893932/2443234453.py\"\u001b[0;36m, line \u001b[0;32m2\u001b[0m\n\u001b[0;31m    title = Road Data Dumps\"\u001b[0m\n\u001b[0m                 ^\u001b[0m\n\u001b[0;31mSyntaxError\u001b[0m\u001b[0;31m:\u001b[0m invalid syntax\n"
     ]
    }
   ],
   "metadata": {
    "execution": {
     "iopub.execute_input": "2021-09-11T13:43:00.343066Z",
     "iopub.status.busy": "2021-09-11T13:43:00.342876Z",
     "iopub.status.idle": "2021-09-11T13:43:00.360041Z",
     "shell.execute_reply": "2021-09-11T13:43:00.358184Z",
     "shell.execute_reply.started": "2021-09-11T13:43:00.342979Z"
    },
    "tags": [
     "parameters"
    ]
   }
  },
  {
   "cell_type": "code",
   "execution_count": null,
   "source": [
    "import warnings\n",
    "warnings.filterwarnings(\"ignore\")\n",
    "\n",
    "from IPython.display import Markdown as md\n",
    "from IPython.display import HTML\n",
    "\n",
    "import pandas as pd"
   ],
   "outputs": [],
   "metadata": {
    "execution": {
     "iopub.status.busy": "2021-09-11T13:43:00.361213Z",
     "iopub.status.idle": "2021-09-11T13:43:00.361860Z",
     "shell.execute_reply": "2021-09-11T13:43:00.361559Z",
     "shell.execute_reply.started": "2021-09-11T13:43:00.361535Z"
    }
   }
  },
  {
   "cell_type": "code",
   "execution_count": null,
   "source": [
    "df = pd.read_json(data)"
   ],
   "outputs": [],
   "metadata": {}
  },
  {
   "cell_type": "code",
   "execution_count": null,
   "source": [
    "md(f\"# {title}\")"
   ],
   "outputs": [],
   "metadata": {}
  },
  {
   "cell_type": "code",
   "execution_count": null,
   "source": [
    "md(f\"## Lookup Table\")"
   ],
   "outputs": [],
   "metadata": {}
  },
  {
   "cell_type": "code",
   "execution_count": null,
   "source": [
    "df.head()"
   ],
   "outputs": [],
   "metadata": {}
  },
  {
   "cell_type": "code",
   "execution_count": null,
   "source": [
    "md(f\"## MIDAS\")"
   ],
   "outputs": [],
   "metadata": {}
  },
  {
   "cell_type": "code",
   "execution_count": null,
   "source": [
    "midas_df = df.query(\"name.str.contains('MIDAS', case = True)\")\n",
    "midas_df[\"status\"].value_counts(normalize = True)"
   ],
   "outputs": [],
   "metadata": {}
  },
  {
   "cell_type": "code",
   "execution_count": null,
   "source": [
    "midas_df[\"status\"].value_counts(normalize = False)"
   ],
   "outputs": [],
   "metadata": {}
  },
  {
   "cell_type": "code",
   "execution_count": null,
   "source": [
    "md(f\"## TMU\")"
   ],
   "outputs": [],
   "metadata": {}
  },
  {
   "cell_type": "code",
   "execution_count": null,
   "source": [
    "tmu_df = df.query(\"name.str.contains('TMU', case = True)\")\n",
    "tmu_df[\"status\"].value_counts(normalize = True)"
   ],
   "outputs": [],
   "metadata": {}
  },
  {
   "cell_type": "code",
   "execution_count": null,
   "source": [
    "tmu_df[\"status\"].value_counts(normalize = False)"
   ],
   "outputs": [],
   "metadata": {}
  },
  {
   "cell_type": "code",
   "execution_count": null,
   "source": [
    "md(f\"## TAME\")"
   ],
   "outputs": [],
   "metadata": {}
  },
  {
   "cell_type": "code",
   "execution_count": null,
   "source": [
    "tame_df = df.query(\"name.str.contains('TAME', case = True)\")\n",
    "tame_df[\"status\"].value_counts(normalize = True)"
   ],
   "outputs": [],
   "metadata": {}
  },
  {
   "cell_type": "code",
   "execution_count": null,
   "source": [
    "tame_df[\"status\"].value_counts(normalize = False)"
   ],
   "outputs": [],
   "metadata": {}
  },
  {
   "cell_type": "code",
   "execution_count": null,
   "source": [
    "md(f\"## Other\")"
   ],
   "outputs": [],
   "metadata": {}
  },
  {
   "cell_type": "code",
   "execution_count": null,
   "source": [
    "other_df = df.query(\"name.str.contains('MIDAS|TAME|TMU', case = True)==False\")\n",
    "other_df[\"status\"].value_counts(normalize = True)"
   ],
   "outputs": [],
   "metadata": {}
  },
  {
   "cell_type": "code",
   "execution_count": null,
   "source": [
    "other_df[\"status\"].value_counts(normalize = False)"
   ],
   "outputs": [],
   "metadata": {}
  }
 ],
 "metadata": {
  "kernelspec": {
   "display_name": "Python 3 (ipykernel)",
   "language": "python",
   "name": "python3"
  },
  "language_info": {
   "codemirror_mode": {
    "name": "ipython",
    "version": 3
   },
   "file_extension": ".py",
   "mimetype": "text/x-python",
   "name": "python",
   "nbconvert_exporter": "python",
   "pygments_lexer": "ipython3",
   "version": "3.9.6"
  }
 },
 "nbformat": 4,
 "nbformat_minor": 5
}