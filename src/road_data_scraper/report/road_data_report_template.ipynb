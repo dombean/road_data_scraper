{
 "cells": [
  {
   "cell_type": "code",
   "execution_count": null,
   "metadata": {
    "execution": {
     "iopub.execute_input": "2021-09-11T13:43:00.343066Z",
     "iopub.status.busy": "2021-09-11T13:43:00.342876Z",
     "iopub.status.idle": "2021-09-11T13:43:00.360041Z",
     "shell.execute_reply": "2021-09-11T13:43:00.358184Z",
     "shell.execute_reply.started": "2021-09-11T13:43:00.342979Z"
    },
    "tags": [
     "parameters"
    ]
   },
   "outputs": [],
   "source": [
    "# This cell is tagged parameters\n",
    "title = \"Road Data Dumps\"\n",
    "data = None"
   ]
  },
  {
   "cell_type": "code",
   "execution_count": null,
   "metadata": {
    "execution": {
     "iopub.execute_input": "2021-09-19T11:24:47.618891Z",
     "iopub.status.busy": "2021-09-19T11:24:47.618579Z",
     "iopub.status.idle": "2021-09-19T11:24:49.006499Z",
     "shell.execute_reply": "2021-09-19T11:24:49.006073Z",
     "shell.execute_reply.started": "2021-09-19T11:24:47.618807Z"
    },
    "tags": []
   },
   "outputs": [],
   "source": [
    "import warnings\n",
    "warnings.filterwarnings(\"ignore\")\n",
    "\n",
    "from IPython.display import Markdown as md\n",
    "from IPython.display import HTML\n",
    "\n",
    "import pandas as pd\n",
    "import panel as pn\n",
    "import plotly.express as px\n",
    "\n",
    "def create_counts_table(df):\n",
    "    df = df[\"status\"].value_counts(normalize=False)\n",
    "    df = pd.DataFrame(df).reset_index()\n",
    "    df = df.rename({\"index\": \"ID Status\", \"status\": \"Count\"}, axis=1)\n",
    "    df[\"Percentage\"] = ((df[\"Count\"] / df[\"Count\"].sum()) * 100).round(2)\n",
    "    return df\n",
    "\n",
    "def plotly_bar_counts(df, sensor_name):\n",
    "    fig = px.bar(\n",
    "        df,\n",
    "        y=\"Count\",\n",
    "        color=\"ID Status\",\n",
    "        color_discrete_map={\"Active\": \"#2C3E50\", \"Inactive\": \"#E31A1C\"},\n",
    "    )\n",
    "    fig.update_layout(\n",
    "        title=f\"{sensor_name}: Active vs. Inactive ID'S\",\n",
    "        xaxis_title=\"\",\n",
    "        yaxis_title=\"ID Counts\",\n",
    "    )\n",
    "\n",
    "    fig.update_traces(hovertemplate=\"Count:%{y}\")\n",
    "    fig.update_xaxes(visible=True, showticklabels=False)\n",
    "    return fig\n",
    "\n",
    "pn.extension()"
   ]
  },
  {
   "cell_type": "code",
   "execution_count": null,
   "metadata": {},
   "outputs": [],
   "source": [
    "%%html\n",
    "<style>\n",
    "h1,h2 {\n",
    "  color: #2C3E50;\n",
    "  position: static;\n",
    "  font-weight: bold; \n",
    "  text-transform: uppercase;\n",
    "}\n",
    "</style>"
   ]
  },
  {
   "cell_type": "code",
   "execution_count": null,
   "metadata": {},
   "outputs": [],
   "source": [
    "df = pd.read_json(data)\n",
    "df = df.astype({\"easting\": \"object\", \"northing\": \"object\"})"
   ]
  },
  {
   "cell_type": "code",
   "execution_count": null,
   "metadata": {},
   "outputs": [],
   "source": [
    "md(f\"# {title}\")"
   ]
  },
  {
   "cell_type": "code",
   "execution_count": null,
   "metadata": {},
   "outputs": [],
   "source": [
    "md(f\"# __Lookup Table__\")"
   ]
  },
  {
   "cell_type": "code",
   "execution_count": null,
   "metadata": {},
   "outputs": [],
   "source": [
    "df_widget = pn.widgets.DataFrame(\n",
    "    df, name=\"DataFrame\", height=400, width=800\n",
    ")\n",
    "\n",
    "df_widget"
   ]
  },
  {
   "cell_type": "code",
   "execution_count": null,
   "metadata": {},
   "outputs": [],
   "source": [
    "md(f\"# __Active vs. Inactive ID's for MIDAS, TMU, and TAME__\")"
   ]
  },
  {
   "cell_type": "code",
   "execution_count": null,
   "metadata": {},
   "outputs": [],
   "source": [
    "md(f\"## __MIDAS__\")"
   ]
  },
  {
   "cell_type": "code",
   "execution_count": null,
   "metadata": {},
   "outputs": [],
   "source": [
    "midas_df = df.query(\"name.str.contains('midas', case = True)\")\n",
    "midas_counts = create_counts_table(midas_df)\n",
    "midas_counts"
   ]
  },
  {
   "cell_type": "code",
   "execution_count": null,
   "metadata": {},
   "outputs": [],
   "source": [
    "plotly_bar_counts(midas_counts, sensor_name=\"MIDAS\")"
   ]
  },
  {
   "cell_type": "code",
   "execution_count": null,
   "metadata": {},
   "outputs": [],
   "source": [
    "md(f\"## __TMU__\")"
   ]
  },
  {
   "cell_type": "code",
   "execution_count": null,
   "metadata": {},
   "outputs": [],
   "source": [
    "tmu_df = df.query(\"name.str.contains('tmu', case = True)\")\n",
    "tmu_counts = create_counts_table(tmu_df)\n",
    "tmu_counts"
   ]
  },
  {
   "cell_type": "code",
   "execution_count": null,
   "metadata": {},
   "outputs": [],
   "source": [
    "plotly_bar_counts(tmu_counts, sensor_name=\"TMU\")"
   ]
  },
  {
   "cell_type": "code",
   "execution_count": null,
   "metadata": {},
   "outputs": [],
   "source": [
    "md(f\"## __TAME__\")"
   ]
  },
  {
   "cell_type": "code",
   "execution_count": null,
   "metadata": {},
   "outputs": [],
   "source": [
    "tame_df = df.query(\"name.str.contains('tame', case = True)\")\n",
    "tame_counts = create_counts_table(tame_df)\n",
    "tame_counts"
   ]
  },
  {
   "cell_type": "code",
   "execution_count": null,
   "metadata": {},
   "outputs": [],
   "source": [
    "plotly_bar_counts(tame_counts, sensor_name=\"TAME\")"
   ]
  },
  {
   "cell_type": "code",
   "execution_count": null,
   "metadata": {},
   "outputs": [],
   "source": [
    "md(f\"## __Other__\")"
   ]
  },
  {
   "cell_type": "code",
   "execution_count": null,
   "metadata": {},
   "outputs": [],
   "source": [
    "other_df = df.query(\"name.str.contains('midas|tame|tmu', case = True)==False\")\n",
    "other_counts = create_counts_table(other_df)\n",
    "other_counts"
   ]
  },
  {
   "cell_type": "code",
   "execution_count": null,
   "metadata": {},
   "outputs": [],
   "source": [
    "plotly_bar_counts(other_counts, sensor_name=\"Other\")"
   ]
  }
 ],
 "metadata": {
  "interpreter": {
   "hash": "5b48144a34f63487bea7ee9f9ad5c88c0d13e02827afe19e0b18065d84ee6e9a"
  },
  "kernelspec": {
   "display_name": "Python 3.9.6 64-bit ('minimal_ds': conda)",
   "name": "python3"
  },
  "language_info": {
   "codemirror_mode": {
    "name": "ipython",
    "version": 3
   },
   "file_extension": ".py",
   "mimetype": "text/x-python",
   "name": "python",
   "nbconvert_exporter": "python",
   "pygments_lexer": "ipython3",
   "version": "3.9.6"
  }
 },
 "nbformat": 4,
 "nbformat_minor": 5
}
